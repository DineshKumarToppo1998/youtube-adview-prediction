{
  "nbformat": 4,
  "nbformat_minor": 0,
  "metadata": {
    "colab": {
      "name": "youtbe-adview-prediction.ipynb",
      "provenance": [],
      "authorship_tag": "ABX9TyOJZKiBr7+YcCKNevuFVkzp",
      "include_colab_link": true
    },
    "kernelspec": {
      "name": "python3",
      "display_name": "Python 3"
    },
    "accelerator": "GPU"
  },
  "cells": [
    {
      "cell_type": "markdown",
      "metadata": {
        "id": "view-in-github",
        "colab_type": "text"
      },
      "source": [
        "<a href=\"https://colab.research.google.com/github/Karnak123/youtube-adview-prediction/blob/main/youtbe_adview_prediction.ipynb\" target=\"_parent\"><img src=\"https://colab.research.google.com/assets/colab-badge.svg\" alt=\"Open In Colab\"/></a>"
      ]
    },
    {
      "cell_type": "markdown",
      "metadata": {
        "id": "k5F9o-A0XJfU"
      },
      "source": [
        "# Import relevant libraries"
      ]
    },
    {
      "cell_type": "code",
      "metadata": {
        "id": "NN2v7TMRVNo_"
      },
      "source": [
        "import datetime\n",
        "import time\n",
        "import pandas as pd\n",
        "import numpy as np\n",
        "import matplotlib.cm as cm\n",
        "import matplotlib.pyplot as plt\n",
        "import seaborn as sns\n",
        "import joblib\n",
        "from sklearn.preprocessing import LabelEncoder, StandardScaler\n",
        "from sklearn.model_selection import train_test_split\n",
        "from sklearn.metrics import mean_squared_error, mean_absolute_error\n",
        "from sklearn.svm import SVR\n",
        "from sklearn.tree import DecisionTreeRegressor\n",
        "from sklearn.ensemble import RandomForestRegressor\n",
        "from sklearn.ensemble import ExtraTreesRegressor\n",
        "from xgboost import XGBRegressor\n",
        "from google.colab import files"
      ],
      "execution_count": null,
      "outputs": []
    },
    {
      "cell_type": "markdown",
      "metadata": {
        "id": "MPKyx6AxXQrt"
      },
      "source": [
        "# Read csv"
      ]
    },
    {
      "cell_type": "markdown",
      "metadata": {
        "id": "21U3jAvp_eBM"
      },
      "source": [
        "Manually upload file after downloading from https://drive.google.com/file/d/1Dv-HF10AUUA03AO_cQvar462eXawk0iQ/view"
      ]
    },
    {
      "cell_type": "code",
      "metadata": {
        "id": "Eo-FUFokWLuQ"
      },
      "source": [
        "data = pd.read_csv('train.csv')"
      ],
      "execution_count": null,
      "outputs": []
    },
    {
      "cell_type": "markdown",
      "metadata": {
        "id": "FYYelOhlXVaP"
      },
      "source": [
        "# Preprocessing"
      ]
    },
    {
      "cell_type": "code",
      "metadata": {
        "id": "7r5N8K9xW8b0"
      },
      "source": [
        "categories = {\"A\": 1, \"B\": 2, \"C\": 3, \"D\": 4, \"E\": 5, \"F\": 6, \"G\": 7, \"H\": 8}\n",
        "\n",
        "data[\"category\"] = data[\"category\"].map(categories)"
      ],
      "execution_count": null,
      "outputs": []
    },
    {
      "cell_type": "code",
      "metadata": {
        "id": "qlomDS2bXAxj"
      },
      "source": [
        "for e in [\"views\", \"likes\", \"dislikes\", \"comment\"]:\n",
        "    data = data[data[e] != \"F\"]\n",
        "\n",
        "for e in [\"views\", \"likes\", \"dislikes\", \"comment\", \"adview\"]:\n",
        "    data[e] = pd.to_numeric(data[e])\n",
        "\n",
        "data = data[data[\"adview\"] < 2000000]\n",
        "\n",
        "for e in [\"published\", \"vidid\"]:\n",
        "    data[e] = LabelEncoder().fit_transform(data[e])"
      ],
      "execution_count": null,
      "outputs": []
    },
    {
      "cell_type": "code",
      "metadata": {
        "id": "ZyE6Z_8BXCsr"
      },
      "source": [
        "def checki(x):\n",
        "    y = x[2:]\n",
        "    h, m, s, mm = \"\", \"\", \"\", \"\"\n",
        "    P = [\"H\", \"M\", \"S\"]\n",
        "    for i in y:\n",
        "        if i not in P:\n",
        "            mm += i\n",
        "        else:\n",
        "            if i == P[0]:\n",
        "                h = mm\n",
        "                mm = \"\"\n",
        "            elif i == P[1]:\n",
        "                m = mm\n",
        "                mm = \"\"\n",
        "            else:\n",
        "                s = mm\n",
        "                mm = \"\"\n",
        "    if h == \"\":\n",
        "        h = \"00\"\n",
        "    if m == \"\":\n",
        "        m = \"00\"\n",
        "    if s == \"\":\n",
        "        s = \"00\"\n",
        "    bp = h + \":\" + m + \":\" + s\n",
        "    return bp"
      ],
      "execution_count": null,
      "outputs": []
    },
    {
      "cell_type": "code",
      "metadata": {
        "id": "58NHAcg-XGbb"
      },
      "source": [
        "def func_sec(time_str):\n",
        "    h, m, s = time_str.split(\":\")\n",
        "    return int(h) * 3600 + int(m) * 60 + int(s)"
      ],
      "execution_count": null,
      "outputs": []
    },
    {
      "cell_type": "code",
      "metadata": {
        "id": "sMZ5HUqHW1kv"
      },
      "source": [
        "data[\"duration\"] = data[\"duration\"].apply(checki).apply(func_sec)"
      ],
      "execution_count": null,
      "outputs": []
    },
    {
      "cell_type": "markdown",
      "metadata": {
        "id": "Xlx0g4YfXi_J"
      },
      "source": [
        "# Visualize correlation"
      ]
    },
    {
      "cell_type": "code",
      "metadata": {
        "id": "CqUlHvYKXemW",
        "outputId": "cc93d3d3-32ee-4f3b-e703-fd748908c75d",
        "colab": {
          "base_uri": "https://localhost:8080/",
          "height": 487
        }
      },
      "source": [
        "f, ax = plt.subplots(figsize=(10, 8))\n",
        "corr = data.corr()\n",
        "sns.heatmap(corr, mask=np.zeros_like(corr, dtype=np.bool), cmap=sns.diverging_palette(220, 10, as_cmap=True),\n",
        "square=True, ax=ax,annot=True)\n",
        "plt.show()"
      ],
      "execution_count": null,
      "outputs": [
        {
          "output_type": "display_data",
          "data": {
            "image/png": "[encoded data removed]",
            "text/plain": [
              "<Figure size 720x576 with 2 Axes>"
            ]
          },
          "metadata": {
            "tags": [],
            "needs_background": "light"
          }
        }
      ]
    },
    {
      "cell_type": "markdown",
      "metadata": {
        "id": "xuMe6gE1X3PX"
      },
      "source": [
        "# Prepare for input to model"
      ]
    },
    {
      "cell_type": "code",
      "metadata": {
        "id": "kXjVHqlgXuh_"
      },
      "source": [
        "Y = pd.DataFrame(data.iloc[:, 1].values, columns=[\"target\"])\n",
        "data = data.drop([\"adview\", \"vidid\"], axis=1)"
      ],
      "execution_count": null,
      "outputs": []
    },
    {
      "cell_type": "code",
      "metadata": {
        "id": "k4MYJjmpXzEv"
      },
      "source": [
        "X_train, X_test, y_train, y_test = train_test_split(\n",
        "    data, Y, test_size=0.1, random_state=42\n",
        ")\n",
        "y_train = y_train.to_numpy().ravel()\n",
        "y_test = y_test.to_numpy().ravel()"
      ],
      "execution_count": null,
      "outputs": []
    },
    {
      "cell_type": "code",
      "metadata": {
        "id": "rzz_IrKiXqEP"
      },
      "source": [
        "sc = StandardScaler()\n",
        "X_train = sc.fit_transform(X_train)\n",
        "X_test = sc.transform(X_test)"
      ],
      "execution_count": null,
      "outputs": []
    },
    {
      "cell_type": "markdown",
      "metadata": {
        "id": "arJJOkgUYMVm"
      },
      "source": [
        "# Test on models"
      ]
    },
    {
      "cell_type": "code",
      "metadata": {
        "id": "xMJdMnvuYCUj"
      },
      "source": [
        "def evaluate(X_test, y_test, model):\n",
        "    y_preds = model.predict(X_test)\n",
        "    print(y_test[:5], y_preds[:5])\n",
        "    print(\"RMSE : \", np.sqrt(mean_squared_error(y_test, y_preds)))\n",
        "    print(\"MAE : \", mean_absolute_error(y_test, y_preds))\n",
        "    print()"
      ],
      "execution_count": null,
      "outputs": []
    },
    {
      "cell_type": "markdown",
      "metadata": {
        "id": "JqdWm-0SZVFO"
      },
      "source": [
        "### SVR"
      ]
    },
    {
      "cell_type": "code",
      "metadata": {
        "id": "Y8hM0aVDYErt",
        "outputId": "81671b11-6c10-4c5d-8afe-2ba7654aebd8",
        "colab": {
          "base_uri": "https://localhost:8080/"
        }
      },
      "source": [
        "svr_model = SVR()\n",
        "svr_model.fit(X_train, y_train)\n",
        "print(\"SVR\")\n",
        "evaluate(X_test, y_test, svr_model)"
      ],
      "execution_count": null,
      "outputs": [
        {
          "output_type": "stream",
          "text": [
            "SVR\n",
            "[5 2 5 1 2] [4.67394529 1.82824105 1.58383048 2.18837278 1.37217261]\n",
            "RMSE :  10176.554553901715\n",
            "MAE :  1046.249824603345\n",
            "\n"
          ],
          "name": "stdout"
        }
      ]
    },
    {
      "cell_type": "markdown",
      "metadata": {
        "id": "rJiyu6xSZZw8"
      },
      "source": [
        "### Decision Tree"
      ]
    },
    {
      "cell_type": "code",
      "metadata": {
        "id": "UXFAl34LYGGP",
        "outputId": "3afd2983-c9ed-4850-f16c-172083e7a97a",
        "colab": {
          "base_uri": "https://localhost:8080/"
        }
      },
      "source": [
        "dt_model = DecisionTreeRegressor()\n",
        "dt_model.fit(X_train, y_train)\n",
        "print(\"Decision Tree\")\n",
        "evaluate(X_test, y_test, dt_model)"
      ],
      "execution_count": null,
      "outputs": [
        {
          "output_type": "stream",
          "text": [
            "Decision Tree\n",
            "[5 2 5 1 2] [2. 1. 7. 1. 1.]\n",
            "RMSE :  17313.768066676494\n",
            "MAE :  2283.7281420765025\n",
            "\n"
          ],
          "name": "stdout"
        }
      ]
    },
    {
      "cell_type": "markdown",
      "metadata": {
        "id": "ToGxpjhMZdJ0"
      },
      "source": [
        "### Random Forest"
      ]
    },
    {
      "cell_type": "code",
      "metadata": {
        "id": "ehitUt3hYIgG",
        "outputId": "e4a2b114-c773-4ae7-b632-c98f556a6024",
        "colab": {
          "base_uri": "https://localhost:8080/"
        }
      },
      "source": [
        "rf_model = RandomForestRegressor(n_estimators=300)\n",
        "rf_model.fit(X_train, y_train)\n",
        "print(\"Random Forest\")\n",
        "evaluate(X_test, y_test, rf_model)"
      ],
      "execution_count": null,
      "outputs": [
        {
          "output_type": "stream",
          "text": [
            "Random Forest\n",
            "[5 2 5 1 2] [  7.47        12.71333333   8.74666667   2.42       861.87333333]\n",
            "RMSE :  13980.065905041802\n",
            "MAE :  2451.7999203096538\n",
            "\n"
          ],
          "name": "stdout"
        }
      ]
    },
    {
      "cell_type": "markdown",
      "metadata": {
        "id": "begwdeaKZvtt"
      },
      "source": [
        "# Save models to colab"
      ]
    },
    {
      "cell_type": "code",
      "metadata": {
        "id": "L1NpWE5FZvBZ",
        "outputId": "87ddccfb-eee1-4ad2-ccbf-7a13ad98c981",
        "colab": {
          "base_uri": "https://localhost:8080/"
        }
      },
      "source": [
        "joblib.dump(svr_model, \"svr_model.pkl\")\n",
        "joblib.dump(dt_model, \"dt_model.pkl\")\n",
        "joblib.dump(rf_model, \"rf_model.pkl\")"
      ],
      "execution_count": null,
      "outputs": [
        {
          "output_type": "execute_result",
          "data": {
            "text/plain": [
              "['rf_model.pkl']"
            ]
          },
          "metadata": {
            "tags": []
          },
          "execution_count": 16
        }
      ]
    },
    {
      "cell_type": "markdown",
      "metadata": {
        "id": "eA08QrHVajD2"
      },
      "source": [
        "# Save models to PC (Chrome only)"
      ]
    },
    {
      "cell_type": "code",
      "metadata": {
        "id": "30TesMgLZ7zf"
      },
      "source": [
        "files.download(\"svr_model.pkl\")\n",
        "files.download(\"dt_model.pkl\")\n",
        "files.download(\"rf_model.pkl\")"
      ],
      "execution_count": null,
      "outputs": []
    }
  ]
}